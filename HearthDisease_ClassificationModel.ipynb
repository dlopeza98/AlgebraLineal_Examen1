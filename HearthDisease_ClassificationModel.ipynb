{
 "cells": [
  {
   "cell_type": "markdown",
   "metadata": {},
   "source": [
    "# Classification Model with boolean variables\n",
    "\n",
    "The objective of this Notebook is to create a `Logistic Regression` model to predict *Hearth Disease* (boolean variable), using anothers boolean variables. \n",
    "\n",
    "**We want to find what are the most influential factors in having a heart attack in the representative sample of people in the U.S.**\n",
    "\n",
    "**Hamming Distance** will be used as metric to evaluate the performance of the model."
   ]
  },
  {
   "cell_type": "markdown",
   "metadata": {},
   "source": [
    "## Why Hamming Distance as a performance Metric?\n",
    "\n",
    "Is a metric that is used to evaluate the performance of classification models when they use binary (boolean) variables. The result of this distance is interpreted as the number of observations that were bad classificated by the prediction of the model.\n",
    "\n",
    "The `Hamming Distance` is the count of the numbers of modifications that needs to be applied in a `vectorX` to be equals to the `vectorY`.\n",
    "\n",
    "The function `Hamming_loss` of the library scikt-learn, calculate the Hamming distance between `y_predict` and `y_test`(number of bad classifications) divided by the total of observations in `y_test`."
   ]
  },
  {
   "cell_type": "markdown",
   "metadata": {},
   "source": [
    "## The dataset.\n",
    "\n",
    "For this case a dataset with 319.795 observations called ***Personal Key Indicators of Heart Disease*** is used, wich cointains 9 boolean variables related with HeartDesease. The dataset was taken from this website: https://www.kaggle.com/datasets/kamilpytlak/personal-key-indicators-of-heart-disease and came from the **Centers for Disease Control and Prevention**, wich conduct surverys to U.S. residents. Each column represent a variable and each row represent an person who answer the survery.\n",
    "\n",
    "**Variables Description**\n",
    "\n",
    "The description oh those variables, are the question made in the survery.\n",
    "\n",
    "**1. HeartDisease:** Respondents that have ever reported having coronary heart disease (CHD) or myocardial infarction (MI)\n",
    "\n",
    "**2.Smoking:** Have you smoked at least 100 cigarettes in your entire life? [Note: 5 packs = 100 cigarettes]\n",
    "\n",
    "**3.AlcoholDrinking:** Heavy drinkers (adult men having more than 14 drinks per week and adult women having more than 7 drinks per week)\n",
    "\n",
    "**4.Stroke:** (Ever told) (you had) a stroke?\n",
    "\n",
    "**5.DiffWalking:** Do you have serious difficulty walking or climbing stairs?\n",
    "\n",
    "**6.Sex:** Are you male or female?\n",
    "\n",
    "**7.Asthma:** (Ever told) (you had) asthma?\n",
    "\n",
    "**8.KidneyDisease:** Not including kidney stones, bladder infection or incontinence, were you ever told you had kidney disease?\n",
    "\n",
    "**9.SkinCancer:** (Ever told) (you had) skin cancer?\n",
    "\n",
    "The values of \"Yes\" will be replaced for 1, and the values of \"No\" will be replaced for 0.\n",
    "\n",
    "In the case of `Sex`, \"Male\" will be replaced for 1 and \"Female\" will be replaced for 0."
   ]
  },
  {
   "cell_type": "markdown",
   "metadata": {},
   "source": [
    "## Importing libraries, reading and exploring the data"
   ]
  },
  {
   "cell_type": "code",
   "execution_count": 14,
   "metadata": {},
   "outputs": [],
   "source": [
    "import pandas as pd\n",
    "import numpy as np\n",
    "from sklearn.model_selection import train_test_split\n",
    "from sklearn.metrics import classification_report, accuracy_score,confusion_matrix,ConfusionMatrixDisplay, hamming_loss\n",
    "import pandas as pd\n",
    "import numpy as np\n",
    "import matplotlib.pyplot as plt\n",
    "from sklearn.model_selection import train_test_split\n",
    "from sklearn.linear_model import LogisticRegression\n",
    "from sklearn.metrics import confusion_matrix, roc_curve, roc_auc_score, auc\n",
    "from sklearn.preprocessing import StandardScaler\n",
    "\n",
    "import statsmodels.formula.api as smf\n",
    "from sklearn.ensemble import RandomForestClassifier\n"
   ]
  },
  {
   "cell_type": "code",
   "execution_count": 3,
   "metadata": {},
   "outputs": [
    {
     "data": {
      "text/html": [
       "<div>\n",
       "<style scoped>\n",
       "    .dataframe tbody tr th:only-of-type {\n",
       "        vertical-align: middle;\n",
       "    }\n",
       "\n",
       "    .dataframe tbody tr th {\n",
       "        vertical-align: top;\n",
       "    }\n",
       "\n",
       "    .dataframe thead th {\n",
       "        text-align: right;\n",
       "    }\n",
       "</style>\n",
       "<table border=\"1\" class=\"dataframe\">\n",
       "  <thead>\n",
       "    <tr style=\"text-align: right;\">\n",
       "      <th></th>\n",
       "      <th>HeartDisease</th>\n",
       "      <th>Smoking</th>\n",
       "      <th>AlcoholDrinking</th>\n",
       "      <th>Stroke</th>\n",
       "      <th>Sex</th>\n",
       "      <th>DiffWalking</th>\n",
       "      <th>Asthma</th>\n",
       "      <th>KidneyDisease</th>\n",
       "      <th>SkinCancer</th>\n",
       "    </tr>\n",
       "  </thead>\n",
       "  <tbody>\n",
       "    <tr>\n",
       "      <th>0</th>\n",
       "      <td>0</td>\n",
       "      <td>1</td>\n",
       "      <td>0</td>\n",
       "      <td>0</td>\n",
       "      <td>0</td>\n",
       "      <td>0</td>\n",
       "      <td>1</td>\n",
       "      <td>0</td>\n",
       "      <td>1</td>\n",
       "    </tr>\n",
       "    <tr>\n",
       "      <th>1</th>\n",
       "      <td>0</td>\n",
       "      <td>0</td>\n",
       "      <td>0</td>\n",
       "      <td>1</td>\n",
       "      <td>0</td>\n",
       "      <td>0</td>\n",
       "      <td>0</td>\n",
       "      <td>0</td>\n",
       "      <td>0</td>\n",
       "    </tr>\n",
       "    <tr>\n",
       "      <th>2</th>\n",
       "      <td>0</td>\n",
       "      <td>1</td>\n",
       "      <td>0</td>\n",
       "      <td>0</td>\n",
       "      <td>1</td>\n",
       "      <td>0</td>\n",
       "      <td>1</td>\n",
       "      <td>0</td>\n",
       "      <td>0</td>\n",
       "    </tr>\n",
       "    <tr>\n",
       "      <th>3</th>\n",
       "      <td>0</td>\n",
       "      <td>0</td>\n",
       "      <td>0</td>\n",
       "      <td>0</td>\n",
       "      <td>0</td>\n",
       "      <td>0</td>\n",
       "      <td>0</td>\n",
       "      <td>0</td>\n",
       "      <td>1</td>\n",
       "    </tr>\n",
       "    <tr>\n",
       "      <th>4</th>\n",
       "      <td>0</td>\n",
       "      <td>0</td>\n",
       "      <td>0</td>\n",
       "      <td>0</td>\n",
       "      <td>0</td>\n",
       "      <td>1</td>\n",
       "      <td>0</td>\n",
       "      <td>0</td>\n",
       "      <td>0</td>\n",
       "    </tr>\n",
       "  </tbody>\n",
       "</table>\n",
       "</div>"
      ],
      "text/plain": [
       "   HeartDisease  Smoking  AlcoholDrinking  Stroke  Sex  DiffWalking  Asthma  \\\n",
       "0             0        1                0       0    0            0       1   \n",
       "1             0        0                0       1    0            0       0   \n",
       "2             0        1                0       0    1            0       1   \n",
       "3             0        0                0       0    0            0       0   \n",
       "4             0        0                0       0    0            1       0   \n",
       "\n",
       "   KidneyDisease  SkinCancer  \n",
       "0              0           1  \n",
       "1              0           0  \n",
       "2              0           0  \n",
       "3              0           1  \n",
       "4              0           0  "
      ]
     },
     "execution_count": 3,
     "metadata": {},
     "output_type": "execute_result"
    }
   ],
   "source": [
    "df=pd.read_csv(\"heart_2020_cleaned.csv\")\n",
    "df=df[[\"HeartDisease\",\"Smoking\",\"AlcoholDrinking\",\"Stroke\",\"Sex\",\"DiffWalking\",\n",
    "       \"Asthma\",\"KidneyDisease\",\"SkinCancer\"]] #Filtering columns\n",
    "df.replace({\"Yes\":1,\"No\":0,\"Male\":1,\"Female\":0},inplace=True) #Replacing strings for 1 and 0\n",
    "df.head()"
   ]
  },
  {
   "cell_type": "code",
   "execution_count": 4,
   "metadata": {},
   "outputs": [
    {
     "data": {
      "text/plain": [
       "(319795, 9)"
      ]
     },
     "execution_count": 4,
     "metadata": {},
     "output_type": "execute_result"
    }
   ],
   "source": [
    "df.shape"
   ]
  },
  {
   "cell_type": "code",
   "execution_count": 5,
   "metadata": {},
   "outputs": [
    {
     "name": "stdout",
     "output_type": "stream",
     "text": [
      "HeartDisease\n",
      "0               292422\n",
      "1                27373\n",
      "Name: count, dtype: int64\n",
      "Smoking\n",
      "0          187887\n",
      "1          131908\n",
      "Name: count, dtype: int64\n",
      "AlcoholDrinking\n",
      "0                  298018\n",
      "1                   21777\n",
      "Name: count, dtype: int64\n",
      "Stroke\n",
      "0         307726\n",
      "1          12069\n",
      "Name: count, dtype: int64\n",
      "Sex\n",
      "0      167805\n",
      "1      151990\n",
      "Name: count, dtype: int64\n",
      "DiffWalking\n",
      "0              275385\n",
      "1               44410\n",
      "Name: count, dtype: int64\n",
      "Asthma\n",
      "0         276923\n",
      "1          42872\n",
      "Name: count, dtype: int64\n",
      "KidneyDisease\n",
      "0                308016\n",
      "1                 11779\n",
      "Name: count, dtype: int64\n",
      "SkinCancer\n",
      "0             289976\n",
      "1              29819\n",
      "Name: count, dtype: int64\n"
     ]
    }
   ],
   "source": [
    "for var in df.columns:\n",
    "    print(df[[var]].value_counts())"
   ]
  },
  {
   "cell_type": "code",
   "execution_count": 6,
   "metadata": {},
   "outputs": [
    {
     "data": {
      "text/html": [
       "<div>\n",
       "<style scoped>\n",
       "    .dataframe tbody tr th:only-of-type {\n",
       "        vertical-align: middle;\n",
       "    }\n",
       "\n",
       "    .dataframe tbody tr th {\n",
       "        vertical-align: top;\n",
       "    }\n",
       "\n",
       "    .dataframe thead th {\n",
       "        text-align: right;\n",
       "    }\n",
       "</style>\n",
       "<table border=\"1\" class=\"dataframe\">\n",
       "  <thead>\n",
       "    <tr style=\"text-align: right;\">\n",
       "      <th></th>\n",
       "      <th>HeartDisease</th>\n",
       "      <th>Smoking</th>\n",
       "      <th>AlcoholDrinking</th>\n",
       "      <th>Stroke</th>\n",
       "      <th>Sex</th>\n",
       "      <th>DiffWalking</th>\n",
       "      <th>Asthma</th>\n",
       "      <th>KidneyDisease</th>\n",
       "      <th>SkinCancer</th>\n",
       "    </tr>\n",
       "  </thead>\n",
       "  <tbody>\n",
       "    <tr>\n",
       "      <th>count</th>\n",
       "      <td>319795.000000</td>\n",
       "      <td>319795.000000</td>\n",
       "      <td>319795.000000</td>\n",
       "      <td>319795.000000</td>\n",
       "      <td>319795.000000</td>\n",
       "      <td>319795.000000</td>\n",
       "      <td>319795.000000</td>\n",
       "      <td>319795.000000</td>\n",
       "      <td>319795.000000</td>\n",
       "    </tr>\n",
       "    <tr>\n",
       "      <th>mean</th>\n",
       "      <td>0.085595</td>\n",
       "      <td>0.412477</td>\n",
       "      <td>0.068097</td>\n",
       "      <td>0.037740</td>\n",
       "      <td>0.475273</td>\n",
       "      <td>0.138870</td>\n",
       "      <td>0.134061</td>\n",
       "      <td>0.036833</td>\n",
       "      <td>0.093244</td>\n",
       "    </tr>\n",
       "    <tr>\n",
       "      <th>std</th>\n",
       "      <td>0.279766</td>\n",
       "      <td>0.492281</td>\n",
       "      <td>0.251912</td>\n",
       "      <td>0.190567</td>\n",
       "      <td>0.499389</td>\n",
       "      <td>0.345812</td>\n",
       "      <td>0.340718</td>\n",
       "      <td>0.188352</td>\n",
       "      <td>0.290775</td>\n",
       "    </tr>\n",
       "    <tr>\n",
       "      <th>min</th>\n",
       "      <td>0.000000</td>\n",
       "      <td>0.000000</td>\n",
       "      <td>0.000000</td>\n",
       "      <td>0.000000</td>\n",
       "      <td>0.000000</td>\n",
       "      <td>0.000000</td>\n",
       "      <td>0.000000</td>\n",
       "      <td>0.000000</td>\n",
       "      <td>0.000000</td>\n",
       "    </tr>\n",
       "    <tr>\n",
       "      <th>25%</th>\n",
       "      <td>0.000000</td>\n",
       "      <td>0.000000</td>\n",
       "      <td>0.000000</td>\n",
       "      <td>0.000000</td>\n",
       "      <td>0.000000</td>\n",
       "      <td>0.000000</td>\n",
       "      <td>0.000000</td>\n",
       "      <td>0.000000</td>\n",
       "      <td>0.000000</td>\n",
       "    </tr>\n",
       "    <tr>\n",
       "      <th>50%</th>\n",
       "      <td>0.000000</td>\n",
       "      <td>0.000000</td>\n",
       "      <td>0.000000</td>\n",
       "      <td>0.000000</td>\n",
       "      <td>0.000000</td>\n",
       "      <td>0.000000</td>\n",
       "      <td>0.000000</td>\n",
       "      <td>0.000000</td>\n",
       "      <td>0.000000</td>\n",
       "    </tr>\n",
       "    <tr>\n",
       "      <th>75%</th>\n",
       "      <td>0.000000</td>\n",
       "      <td>1.000000</td>\n",
       "      <td>0.000000</td>\n",
       "      <td>0.000000</td>\n",
       "      <td>1.000000</td>\n",
       "      <td>0.000000</td>\n",
       "      <td>0.000000</td>\n",
       "      <td>0.000000</td>\n",
       "      <td>0.000000</td>\n",
       "    </tr>\n",
       "    <tr>\n",
       "      <th>max</th>\n",
       "      <td>1.000000</td>\n",
       "      <td>1.000000</td>\n",
       "      <td>1.000000</td>\n",
       "      <td>1.000000</td>\n",
       "      <td>1.000000</td>\n",
       "      <td>1.000000</td>\n",
       "      <td>1.000000</td>\n",
       "      <td>1.000000</td>\n",
       "      <td>1.000000</td>\n",
       "    </tr>\n",
       "  </tbody>\n",
       "</table>\n",
       "</div>"
      ],
      "text/plain": [
       "        HeartDisease        Smoking  AlcoholDrinking         Stroke  \\\n",
       "count  319795.000000  319795.000000    319795.000000  319795.000000   \n",
       "mean        0.085595       0.412477         0.068097       0.037740   \n",
       "std         0.279766       0.492281         0.251912       0.190567   \n",
       "min         0.000000       0.000000         0.000000       0.000000   \n",
       "25%         0.000000       0.000000         0.000000       0.000000   \n",
       "50%         0.000000       0.000000         0.000000       0.000000   \n",
       "75%         0.000000       1.000000         0.000000       0.000000   \n",
       "max         1.000000       1.000000         1.000000       1.000000   \n",
       "\n",
       "                 Sex    DiffWalking         Asthma  KidneyDisease  \\\n",
       "count  319795.000000  319795.000000  319795.000000  319795.000000   \n",
       "mean        0.475273       0.138870       0.134061       0.036833   \n",
       "std         0.499389       0.345812       0.340718       0.188352   \n",
       "min         0.000000       0.000000       0.000000       0.000000   \n",
       "25%         0.000000       0.000000       0.000000       0.000000   \n",
       "50%         0.000000       0.000000       0.000000       0.000000   \n",
       "75%         1.000000       0.000000       0.000000       0.000000   \n",
       "max         1.000000       1.000000       1.000000       1.000000   \n",
       "\n",
       "          SkinCancer  \n",
       "count  319795.000000  \n",
       "mean        0.093244  \n",
       "std         0.290775  \n",
       "min         0.000000  \n",
       "25%         0.000000  \n",
       "50%         0.000000  \n",
       "75%         0.000000  \n",
       "max         1.000000  "
      ]
     },
     "execution_count": 6,
     "metadata": {},
     "output_type": "execute_result"
    }
   ],
   "source": [
    "df.describe()"
   ]
  },
  {
   "cell_type": "markdown",
   "metadata": {},
   "source": [
    "## Splitting the data into train and test "
   ]
  },
  {
   "cell_type": "code",
   "execution_count": 15,
   "metadata": {},
   "outputs": [],
   "source": [
    "# Spliting data into training and test\n",
    "\n",
    "# Define the target variable (Variable_5) and features (other variables)\n",
    "X = df.drop(columns=['HeartDisease'])\n",
    "y = df['HeartDisease']\n",
    "\n",
    "\n",
    "X_train,X_test=train_test_split(X,test_size=0.2,random_state=2)\n",
    "y_train,y_test=train_test_split(y,test_size=0.2,random_state=2)"
   ]
  },
  {
   "cell_type": "markdown",
   "metadata": {},
   "source": [
    "## Building different Classification models and comparing them based on Hamming Distance"
   ]
  },
  {
   "cell_type": "code",
   "execution_count": 16,
   "metadata": {},
   "outputs": [
    {
     "data": {
      "text/plain": [
       "Index(['HeartDisease', 'Smoking', 'AlcoholDrinking', 'Stroke', 'Sex',\n",
       "       'DiffWalking', 'Asthma', 'KidneyDisease', 'SkinCancer'],\n",
       "      dtype='object')"
      ]
     },
     "execution_count": 16,
     "metadata": {},
     "output_type": "execute_result"
    }
   ],
   "source": [
    "df.columns"
   ]
  },
  {
   "cell_type": "code",
   "execution_count": 39,
   "metadata": {},
   "outputs": [
    {
     "name": "stdout",
     "output_type": "stream",
     "text": [
      "Accorging to hamming distance there are 5410 observations bad classificated of 63959 \n",
      "That means the accuracy is 0.9154145624540722 (1-0.08458543754592786)\n",
      "\n",
      "Validating with sklearn calculation\n",
      "Hamming loss  0.08458543754592786\n",
      "Accuracy  0.9154145624540722\n",
      "255836\n",
      "\n",
      "Confusion matrix, without normalization\n",
      "[[58216   314]\n",
      " [ 5096   333]]\n"
     ]
    },
    {
     "data": {
      "image/png": "[encoded data removed]",
      "text/plain": [
       "<Figure size 640x480 with 2 Axes>"
      ]
     },
     "metadata": {},
     "output_type": "display_data"
    },
    {
     "data": {
      "image/png": "[encoded data removed]",
      "text/plain": [
       "<Figure size 800x600 with 1 Axes>"
      ]
     },
     "metadata": {},
     "output_type": "display_data"
    }
   ],
   "source": [
    "\n",
    "model = LogisticRegression(random_state=42)\n",
    "\n",
    "# Fit the model on the training data\n",
    "model.fit(X_train, y_train)\n",
    "\n",
    "# Predict on the test data\n",
    "y_pred = model.predict(X_test)\n",
    "\n",
    "# Calculating Hamming distance for predictions\n",
    "\n",
    "#Manual calculation\n",
    "hamming_dist = np.sum(np.abs(y_pred-y_test))\n",
    "accuracy=1-(hamming_dist/len(y_test))\n",
    "\n",
    "\n",
    "# Print the Hamming distance for each model\n",
    "print(f'Accorging to hamming distance there are {hamming_dist} observations bad classificated of {len(y_test)} \\nThat means the accuracy is {accuracy} (1-{(hamming_dist/len(y_test))})')\n",
    "print(\"\\nValidating with sklearn calculation\\nHamming loss \",hamming_loss(y_test,y_pred))\n",
    "print(\"Accuracy \",model.score(X_test,y_test))\n",
    "print(len(model.predict_proba(X_train)))\n",
    "\n",
    "# Calculate confusion matrix\n",
    "confusion = confusion_matrix(y_test, y_pred)\n",
    "\n",
    "# Plot the confusion matrix\n",
    "\n",
    "# Plot the confusion matrix\n",
    "def plot_confusion_matrix(cm, classes,\n",
    "                          normalize=False,\n",
    "                          title='Confusion matrix',\n",
    "                          cmap=plt.cm.Blues):\n",
    "    \"\"\"\n",
    "    This function prints and plots the confusion matrix.\n",
    "    Normalization can be applied by setting `normalize=True`.\n",
    "    \"\"\"\n",
    "    plt.imshow(cm, interpolation='nearest', cmap=cmap)\n",
    "    plt.title(title)\n",
    "    plt.colorbar()\n",
    "    tick_marks = np.arange(len(classes))\n",
    "    plt.xticks(tick_marks, classes, rotation=45)\n",
    "    plt.yticks(tick_marks, classes)\n",
    "\n",
    "    if normalize:\n",
    "        cm = cm.astype('float') / cm.sum(axis=1)[:, np.newaxis]\n",
    "        print(\"\\nNormalized confusion matrix\")\n",
    "    else:\n",
    "        print('\\nConfusion matrix, without normalization')\n",
    "\n",
    "    print(cm)\n",
    "\n",
    "    thresh = cm.max() / 2.\n",
    "    for i, j in itertools.product(range(cm.shape[0]), range(cm.shape[1])):\n",
    "        plt.text(j, i, cm[i, j],\n",
    "                 horizontalalignment=\"center\",\n",
    "                 color=\"white\" if cm[i, j] > thresh else \"black\")\n",
    "\n",
    "    plt.tight_layout()\n",
    "    plt.ylabel('True label')\n",
    "    plt.xlabel('Predicted label')\n",
    "\n",
    "import itertools\n",
    "\n",
    "class_names = [0, 1]  # Replace with your class labels\n",
    "plot_confusion_matrix(confusion, classes=class_names, title='Confusion Matrix')\n",
    "plt.show()\n",
    "\n",
    "# Calculate ROC curve and AUC\n",
    "y_prob = model.predict_proba(X_test)[:, 1]\n",
    "fpr, tpr, thresholds = roc_curve(y_test, y_prob)\n",
    "roc_auc = auc(fpr, tpr)\n",
    "\n",
    "# Plot ROC curve with AUC score\n",
    "plt.figure(figsize=(8, 6))\n",
    "plt.plot(fpr, tpr, color='darkorange', lw=2, label='ROC curve (area = %0.2f)' % roc_auc)\n",
    "plt.plot([0, 1], [0, 1], color='navy', lw=2, linestyle='--')\n",
    "plt.xlim([0.0, 1.0])\n",
    "plt.ylim([0.0, 1.05])\n",
    "plt.xlabel('False Positive Rate')\n",
    "plt.ylabel('True Positive Rate')\n",
    "plt.title('Receiver Operating Characteristic (ROC)')\n",
    "plt.legend(loc='lower right')\n",
    "plt.show()\n",
    "\n",
    "\n"
   ]
  },
  {
   "cell_type": "markdown",
   "metadata": {},
   "source": [
    "##### It's evident that the model is able to clasificate a person who wont have a Hearth Disease, but is very bad predicting when a person will have a Hearth Disease."
   ]
  },
  {
   "cell_type": "markdown",
   "metadata": {},
   "source": [
    "## Creating a model with all the data to find the most relevant factors in HearthDiseases"
   ]
  },
  {
   "cell_type": "code",
   "execution_count": 24,
   "metadata": {},
   "outputs": [
    {
     "name": "stdout",
     "output_type": "stream",
     "text": [
      "Optimization terminated successfully.\n",
      "         Current function value: 0.256764\n",
      "         Iterations 7\n",
      "                           Logit Regression Results                           \n",
      "==============================================================================\n",
      "Dep. Variable:           HeartDisease   No. Observations:               319795\n",
      "Model:                          Logit   Df Residuals:                   319786\n",
      "Method:                           MLE   Df Model:                            8\n",
      "Date:                Sat, 30 Sep 2023   Pseudo R-squ.:                  0.1214\n",
      "Time:                        17:26:29   Log-Likelihood:                -82112.\n",
      "converged:                       True   LL-Null:                       -93453.\n",
      "Covariance Type:            nonrobust   LLR p-value:                     0.000\n",
      "===================================================================================\n",
      "                      coef    std err          z      P>|z|      [0.025      0.975]\n",
      "-----------------------------------------------------------------------------------\n",
      "Intercept          -3.4889      0.014   -246.606      0.000      -3.517      -3.461\n",
      "Smoking             0.5655      0.014     41.456      0.000       0.539       0.592\n",
      "AlcoholDrinking    -0.5520      0.032    -17.062      0.000      -0.615      -0.489\n",
      "Stroke              1.4749      0.022     67.063      0.000       1.432       1.518\n",
      "Sex                 0.6085      0.014     44.101      0.000       0.581       0.635\n",
      "DiffWalking         1.1379      0.015     74.846      0.000       1.108       1.168\n",
      "Asthma              0.2143      0.018     11.831      0.000       0.179       0.250\n",
      "KidneyDisease       1.0978      0.024     46.421      0.000       1.051       1.144\n",
      "SkinCancer          0.6678      0.018     36.371      0.000       0.632       0.704\n",
      "===================================================================================\n"
     ]
    }
   ],
   "source": [
    "#fit logistic regression model\n",
    "model = smf.logit('HeartDisease ~ Smoking + AlcoholDrinking + Stroke + Sex +\\\n",
    "                  DiffWalking +Asthma + KidneyDisease + SkinCancer', data=df).fit()\n",
    "\n",
    "#view model summary\n",
    "print(model.summary())"
   ]
  },
  {
   "cell_type": "markdown",
   "metadata": {},
   "source": [
    "## Conclusion.\n",
    "\n",
    "Tt can be concluded that the most relevant variables for a person to have a heart disease are: `Stroke`, `DiffWalking` and `KidneyDisease`"
   ]
  }
 ],
 "metadata": {
  "kernelspec": {
   "display_name": "AlgebraLineal_Examen1-LyoHXZek",
   "language": "python",
   "name": "python3"
  },
  "language_info": {
   "codemirror_mode": {
    "name": "ipython",
    "version": 3
   },
   "file_extension": ".py",
   "mimetype": "text/x-python",
   "name": "python",
   "nbconvert_exporter": "python",
   "pygments_lexer": "ipython3",
   "version": "3.11.5"
  },
  "orig_nbformat": 4
 },
 "nbformat": 4,
 "nbformat_minor": 2
}
